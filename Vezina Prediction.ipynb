{
 "cells": [
  {
   "cell_type": "markdown",
   "id": "3c89cd05",
   "metadata": {},
   "source": [
    "Data sourced from [moneypuck.com](https://moneypuck.com/data.htm)"
   ]
  },
  {
   "cell_type": "markdown",
   "id": "8a114e09",
   "metadata": {},
   "source": [
    "# Packages"
   ]
  },
  {
   "cell_type": "code",
   "execution_count": 61,
   "id": "a996e013",
   "metadata": {},
   "outputs": [],
   "source": [
    "import glob\n",
    "import polars as pl\n",
    "import matplotlib.pyplot as plt"
   ]
  },
  {
   "cell_type": "markdown",
   "id": "90337c78",
   "metadata": {},
   "source": [
    "# Read Data"
   ]
  },
  {
   "cell_type": "code",
   "execution_count": 62,
   "id": "3fd0ff64",
   "metadata": {},
   "outputs": [
    {
     "data": {
      "text/html": [
       "<div><style>\n",
       ".dataframe > thead > tr,\n",
       ".dataframe > tbody > tr {\n",
       "  text-align: right;\n",
       "  white-space: pre-wrap;\n",
       "}\n",
       "</style>\n",
       "<small>shape: (5, 36)</small><table border=\"1\" class=\"dataframe\"><thead><tr><th>playerId</th><th>season</th><th>name</th><th>team</th><th>position</th><th>situation</th><th>games_played</th><th>icetime</th><th>xGoals</th><th>goals</th><th>unblocked_shot_attempts</th><th>xRebounds</th><th>rebounds</th><th>xFreeze</th><th>freeze</th><th>xOnGoal</th><th>ongoal</th><th>xPlayStopped</th><th>playStopped</th><th>xPlayContinuedInZone</th><th>playContinuedInZone</th><th>xPlayContinuedOutsideZone</th><th>playContinuedOutsideZone</th><th>flurryAdjustedxGoals</th><th>lowDangerShots</th><th>mediumDangerShots</th><th>highDangerShots</th><th>lowDangerxGoals</th><th>mediumDangerxGoals</th><th>highDangerxGoals</th><th>lowDangerGoals</th><th>mediumDangerGoals</th><th>highDangerGoals</th><th>blocked_shot_attempts</th><th>penalityMinutes</th><th>penalties</th></tr><tr><td>i64</td><td>i64</td><td>str</td><td>str</td><td>str</td><td>str</td><td>i64</td><td>f64</td><td>f64</td><td>f64</td><td>f64</td><td>f64</td><td>f64</td><td>f64</td><td>f64</td><td>f64</td><td>f64</td><td>f64</td><td>f64</td><td>f64</td><td>f64</td><td>f64</td><td>f64</td><td>f64</td><td>f64</td><td>f64</td><td>f64</td><td>f64</td><td>f64</td><td>f64</td><td>f64</td><td>f64</td><td>f64</td><td>f64</td><td>f64</td><td>f64</td></tr></thead><tbody><tr><td>8480373</td><td>2020</td><td>&quot;Josef Korenar&quot;</td><td>&quot;S.J&quot;</td><td>&quot;G&quot;</td><td>&quot;all&quot;</td><td>10</td><td>29510.0</td><td>21.33</td><td>26.0</td><td>476.0</td><td>18.21</td><td>16.0</td><td>58.91</td><td>73.0</td><td>255.31</td><td>258.0</td><td>7.46</td><td>6.0</td><td>142.81</td><td>101.0</td><td>103.8</td><td>131.0</td><td>20.61</td><td>271.0</td><td>66.0</td><td>16.0</td><td>7.71</td><td>8.16</td><td>5.45</td><td>10.0</td><td>9.0</td><td>7.0</td><td>123.0</td><td>0.0</td><td>0.0</td></tr><tr><td>8467913</td><td>2009</td><td>&quot;Alex Auld&quot;</td><td>&quot;NYR&quot;</td><td>&quot;G&quot;</td><td>&quot;other&quot;</td><td>24</td><td>2764.0</td><td>3.71</td><td>4.0</td><td>66.0</td><td>2.4</td><td>2.0</td><td>7.91</td><td>8.0</td><td>37.82</td><td>36.0</td><td>1.02</td><td>1.0</td><td>20.16</td><td>17.0</td><td>16.6</td><td>18.0</td><td>3.52</td><td>40.0</td><td>8.0</td><td>4.0</td><td>1.4</td><td>0.94</td><td>1.37</td><td>1.0</td><td>2.0</td><td>1.0</td><td>14.0</td><td>0.0</td><td>0.0</td></tr><tr><td>8481668</td><td>2024</td><td>&quot;Arturs Silovs&quot;</td><td>&quot;VAN&quot;</td><td>&quot;G&quot;</td><td>&quot;4on5&quot;</td><td>10</td><td>2713.0</td><td>3.94</td><td>4.0</td><td>63.0</td><td>2.67</td><td>3.0</td><td>6.35</td><td>5.0</td><td>30.32</td><td>30.0</td><td>0.23</td><td>0.0</td><td>19.0</td><td>15.0</td><td>9.98</td><td>16.0</td><td>3.87</td><td>31.0</td><td>7.0</td><td>5.0</td><td>1.02</td><td>0.79</td><td>2.13</td><td>0.0</td><td>1.0</td><td>3.0</td><td>20.0</td><td>0.0</td><td>0.0</td></tr><tr><td>8475660</td><td>2019</td><td>&quot;Cam Talbot&quot;</td><td>&quot;CGY&quot;</td><td>&quot;G&quot;</td><td>&quot;other&quot;</td><td>26</td><td>1792.0</td><td>2.24</td><td>3.0</td><td>47.0</td><td>1.82</td><td>1.0</td><td>5.32</td><td>7.0</td><td>27.11</td><td>32.0</td><td>0.6</td><td>0.0</td><td>17.03</td><td>17.0</td><td>10.8</td><td>11.0</td><td>2.17</td><td>33.0</td><td>3.0</td><td>3.0</td><td>1.07</td><td>0.33</td><td>0.85</td><td>2.0</td><td>0.0</td><td>1.0</td><td>8.0</td><td>0.0</td><td>0.0</td></tr><tr><td>8471239</td><td>2014</td><td>&quot;Cory Schneider&quot;</td><td>&quot;N.J&quot;</td><td>&quot;G&quot;</td><td>&quot;all&quot;</td><td>69</td><td>235436.0</td><td>166.23</td><td>148.0</td><td>3436.0</td><td>128.56</td><td>111.0</td><td>433.73</td><td>487.0</td><td>1914.2</td><td>1982.0</td><td>51.2</td><td>51.0</td><td>1055.58</td><td>787.0</td><td>788.75</td><td>1038.0</td><td>160.49</td><td>1978.0</td><td>516.0</td><td>140.0</td><td>56.67</td><td>62.75</td><td>46.8</td><td>48.0</td><td>57.0</td><td>43.0</td><td>802.0</td><td>0.0</td><td>0.0</td></tr></tbody></table></div>"
      ],
      "text/plain": [
       "shape: (5, 36)\n",
       "┌──────────┬────────┬─────────────┬──────┬───┬─────────────┬─────────────┬─────────────┬───────────┐\n",
       "│ playerId ┆ season ┆ name        ┆ team ┆ … ┆ highDangerG ┆ blocked_sho ┆ penalityMin ┆ penalties │\n",
       "│ ---      ┆ ---    ┆ ---         ┆ ---  ┆   ┆ oals        ┆ t_attempts  ┆ utes        ┆ ---       │\n",
       "│ i64      ┆ i64    ┆ str         ┆ str  ┆   ┆ ---         ┆ ---         ┆ ---         ┆ f64       │\n",
       "│          ┆        ┆             ┆      ┆   ┆ f64         ┆ f64         ┆ f64         ┆           │\n",
       "╞══════════╪════════╪═════════════╪══════╪═══╪═════════════╪═════════════╪═════════════╪═══════════╡\n",
       "│ 8480373  ┆ 2020   ┆ Josef       ┆ S.J  ┆ … ┆ 7.0         ┆ 123.0       ┆ 0.0         ┆ 0.0       │\n",
       "│          ┆        ┆ Korenar     ┆      ┆   ┆             ┆             ┆             ┆           │\n",
       "│ 8467913  ┆ 2009   ┆ Alex Auld   ┆ NYR  ┆ … ┆ 1.0         ┆ 14.0        ┆ 0.0         ┆ 0.0       │\n",
       "│ 8481668  ┆ 2024   ┆ Arturs      ┆ VAN  ┆ … ┆ 3.0         ┆ 20.0        ┆ 0.0         ┆ 0.0       │\n",
       "│          ┆        ┆ Silovs      ┆      ┆   ┆             ┆             ┆             ┆           │\n",
       "│ 8475660  ┆ 2019   ┆ Cam Talbot  ┆ CGY  ┆ … ┆ 1.0         ┆ 8.0         ┆ 0.0         ┆ 0.0       │\n",
       "│ 8471239  ┆ 2014   ┆ Cory        ┆ N.J  ┆ … ┆ 43.0        ┆ 802.0       ┆ 0.0         ┆ 0.0       │\n",
       "│          ┆        ┆ Schneider   ┆      ┆   ┆             ┆             ┆             ┆           │\n",
       "└──────────┴────────┴─────────────┴──────┴───┴─────────────┴─────────────┴─────────────┴───────────┘"
      ]
     },
     "execution_count": 62,
     "metadata": {},
     "output_type": "execute_result"
    }
   ],
   "source": [
    "df: pl.DataFrame = pl.concat(\n",
    "    [pl.read_csv(csv_file) for csv_file in glob.glob('./Data/*.csv')],\n",
    "    how='vertical'\n",
    ")\n",
    "\n",
    "df.sample(n=5, seed=20)"
   ]
  },
  {
   "cell_type": "markdown",
   "id": "a7d84408",
   "metadata": {},
   "source": [
    "# Feature Selection"
   ]
  },
  {
   "cell_type": "markdown",
   "id": "e5f7cb3d",
   "metadata": {},
   "source": [
    "- I could explore feature selection models.\n",
    "- For now I've chosen features I think are important based off my own knowledge of the NHL and hockey."
   ]
  },
  {
   "cell_type": "code",
   "execution_count": 63,
   "id": "2718efae",
   "metadata": {},
   "outputs": [
    {
     "data": {
      "text/html": [
       "<div><style>\n",
       ".dataframe > thead > tr,\n",
       ".dataframe > tbody > tr {\n",
       "  text-align: right;\n",
       "  white-space: pre-wrap;\n",
       "}\n",
       "</style>\n",
       "<small>shape: (5, 14)</small><table border=\"1\" class=\"dataframe\"><thead><tr><th>season</th><th>name</th><th>games_played</th><th>xGoals</th><th>goals</th><th>xRebounds</th><th>rebounds</th><th>ongoal</th><th>lowDangerxGoals</th><th>mediumDangerxGoals</th><th>highDangerxGoals</th><th>lowDangerGoals</th><th>mediumDangerGoals</th><th>highDangerGoals</th></tr><tr><td>i64</td><td>str</td><td>i64</td><td>f64</td><td>f64</td><td>f64</td><td>f64</td><td>f64</td><td>f64</td><td>f64</td><td>f64</td><td>f64</td><td>f64</td><td>f64</td></tr></thead><tbody><tr><td>2020</td><td>&quot;Sergei Bobrovsky&quot;</td><td>31</td><td>79.88</td><td>88.0</td><td>60.09</td><td>85.0</td><td>933.0</td><td>25.58</td><td>28.56</td><td>25.73</td><td>25.0</td><td>33.0</td><td>30.0</td></tr><tr><td>2009</td><td>&quot;Steve Mason&quot;</td><td>57</td><td>127.82</td><td>163.0</td><td>104.78</td><td>88.0</td><td>1614.0</td><td>46.36</td><td>42.75</td><td>38.7</td><td>59.0</td><td>59.0</td><td>45.0</td></tr><tr><td>2024</td><td>&quot;Connor Hellebuyck&quot;</td><td>60</td><td>155.87</td><td>120.0</td><td>119.89</td><td>195.0</td><td>1576.0</td><td>51.63</td><td>51.25</td><td>52.99</td><td>50.0</td><td>33.0</td><td>37.0</td></tr><tr><td>2019</td><td>&quot;Elvis Merzlikins&quot;</td><td>32</td><td>68.84</td><td>71.0</td><td>58.71</td><td>57.0</td><td>919.0</td><td>29.16</td><td>25.36</td><td>14.33</td><td>32.0</td><td>27.0</td><td>12.0</td></tr><tr><td>2014</td><td>&quot;Cory Schneider&quot;</td><td>69</td><td>166.23</td><td>148.0</td><td>128.56</td><td>111.0</td><td>1982.0</td><td>56.67</td><td>62.75</td><td>46.8</td><td>48.0</td><td>57.0</td><td>43.0</td></tr></tbody></table></div>"
      ],
      "text/plain": [
       "shape: (5, 14)\n",
       "┌────────┬────────────┬────────────┬────────┬───┬────────────┬────────────┬────────────┬───────────┐\n",
       "│ season ┆ name       ┆ games_play ┆ xGoals ┆ … ┆ highDanger ┆ lowDangerG ┆ mediumDang ┆ highDange │\n",
       "│ ---    ┆ ---        ┆ ed         ┆ ---    ┆   ┆ xGoals     ┆ oals       ┆ erGoals    ┆ rGoals    │\n",
       "│ i64    ┆ str        ┆ ---        ┆ f64    ┆   ┆ ---        ┆ ---        ┆ ---        ┆ ---       │\n",
       "│        ┆            ┆ i64        ┆        ┆   ┆ f64        ┆ f64        ┆ f64        ┆ f64       │\n",
       "╞════════╪════════════╪════════════╪════════╪═══╪════════════╪════════════╪════════════╪═══════════╡\n",
       "│ 2020   ┆ Sergei     ┆ 31         ┆ 79.88  ┆ … ┆ 25.73      ┆ 25.0       ┆ 33.0       ┆ 30.0      │\n",
       "│        ┆ Bobrovsky  ┆            ┆        ┆   ┆            ┆            ┆            ┆           │\n",
       "│ 2009   ┆ Steve      ┆ 57         ┆ 127.82 ┆ … ┆ 38.7       ┆ 59.0       ┆ 59.0       ┆ 45.0      │\n",
       "│        ┆ Mason      ┆            ┆        ┆   ┆            ┆            ┆            ┆           │\n",
       "│ 2024   ┆ Connor     ┆ 60         ┆ 155.87 ┆ … ┆ 52.99      ┆ 50.0       ┆ 33.0       ┆ 37.0      │\n",
       "│        ┆ Hellebuyck ┆            ┆        ┆   ┆            ┆            ┆            ┆           │\n",
       "│ 2019   ┆ Elvis      ┆ 32         ┆ 68.84  ┆ … ┆ 14.33      ┆ 32.0       ┆ 27.0       ┆ 12.0      │\n",
       "│        ┆ Merzlikins ┆            ┆        ┆   ┆            ┆            ┆            ┆           │\n",
       "│ 2014   ┆ Cory       ┆ 69         ┆ 166.23 ┆ … ┆ 46.8       ┆ 48.0       ┆ 57.0       ┆ 43.0      │\n",
       "│        ┆ Schneider  ┆            ┆        ┆   ┆            ┆            ┆            ┆           │\n",
       "└────────┴────────────┴────────────┴────────┴───┴────────────┴────────────┴────────────┴───────────┘"
      ]
     },
     "execution_count": 63,
     "metadata": {},
     "output_type": "execute_result"
    }
   ],
   "source": [
    "# include aggregate stats of all situations (5on5, 5on4, 4on5, etc.)\n",
    "# df = df[df['situation'] == 'all']\n",
    "df = df.filter(pl.col('situation') == 'all')\n",
    "\n",
    "# # i could potentially explore feature selection models\n",
    "df = df.select([\n",
    "    'season',              # the year of the season played\n",
    "    'name',                # the goalie's name\n",
    "    'games_played',        # total number of games played for a season\n",
    "    'xGoals',              # total number of goals expected to be allowed\n",
    "    'goals',               # total number of goals actually allowed\n",
    "    'xRebounds',           # total number of rebounds expected to allow\n",
    "    'rebounds',            # total number of rebounds given from shots on goal\n",
    "    'ongoal',              # total number of shots on goal faced\n",
    "    'lowDangerxGoals',     # goals expected to allow from low danger shots\n",
    "    'mediumDangerxGoals',  # goals expected to allow from medium danger shots\n",
    "    'highDangerxGoals',    # goals expected to allow from high danger shots\n",
    "    'lowDangerGoals',      # goals actually allowed from low danger shots\n",
    "    'mediumDangerGoals',   # goals actually allowed from medium danger shots\n",
    "    'highDangerGoals'      # goals actually allowed from high danger shots\n",
    "])\n",
    "\n",
    "df.sample(n=5, seed=20)"
   ]
  },
  {
   "cell_type": "markdown",
   "id": "8cf2cbde",
   "metadata": {},
   "source": [
    "# Feature Engineering"
   ]
  },
  {
   "cell_type": "code",
   "execution_count": 64,
   "id": "2e36a57a",
   "metadata": {},
   "outputs": [
    {
     "data": {
      "text/html": [
       "<div><style>\n",
       ".dataframe > thead > tr,\n",
       ".dataframe > tbody > tr {\n",
       "  text-align: right;\n",
       "  white-space: pre-wrap;\n",
       "}\n",
       "</style>\n",
       "<small>shape: (9, 15)</small><table border=\"1\" class=\"dataframe\"><thead><tr><th>statistic</th><th>season</th><th>name</th><th>games_played</th><th>xGoals</th><th>goals</th><th>xRebounds</th><th>rebounds</th><th>ongoal</th><th>lowDangerxGoals</th><th>mediumDangerxGoals</th><th>highDangerxGoals</th><th>lowDangerGoals</th><th>mediumDangerGoals</th><th>highDangerGoals</th></tr><tr><td>str</td><td>f64</td><td>str</td><td>f64</td><td>f64</td><td>f64</td><td>f64</td><td>f64</td><td>f64</td><td>f64</td><td>f64</td><td>f64</td><td>f64</td><td>f64</td><td>f64</td></tr></thead><tbody><tr><td>&quot;count&quot;</td><td>1598.0</td><td>&quot;1598&quot;</td><td>1598.0</td><td>1598.0</td><td>1598.0</td><td>1598.0</td><td>1598.0</td><td>1598.0</td><td>1598.0</td><td>1598.0</td><td>1598.0</td><td>1598.0</td><td>1598.0</td><td>1598.0</td></tr><tr><td>&quot;null_count&quot;</td><td>0.0</td><td>&quot;0&quot;</td><td>0.0</td><td>0.0</td><td>0.0</td><td>0.0</td><td>0.0</td><td>0.0</td><td>0.0</td><td>0.0</td><td>0.0</td><td>0.0</td><td>0.0</td><td>0.0</td></tr><tr><td>&quot;mean&quot;</td><td>2016.295369</td><td>null</td><td>27.143304</td><td>68.6452</td><td>68.976846</td><td>52.602522</td><td>58.82791</td><td>765.296621</td><td>23.096902</td><td>24.473191</td><td>21.074975</td><td>23.997497</td><td>24.660826</td><td>20.318523</td></tr><tr><td>&quot;std&quot;</td><td>4.894797</td><td>null</td><td>20.523826</td><td>54.021054</td><td>52.297402</td><td>41.420043</td><td>48.698128</td><td>604.477073</td><td>18.16468</td><td>19.10398</td><td>17.369629</td><td>18.498625</td><td>18.88664</td><td>16.596219</td></tr><tr><td>&quot;min&quot;</td><td>2008.0</td><td>&quot;Aaron Dell&quot;</td><td>1.0</td><td>0.0</td><td>0.0</td><td>0.0</td><td>0.0</td><td>0.0</td><td>0.0</td><td>0.0</td><td>0.0</td><td>0.0</td><td>0.0</td><td>0.0</td></tr><tr><td>&quot;25%&quot;</td><td>2012.0</td><td>null</td><td>7.0</td><td>17.51</td><td>20.0</td><td>13.04</td><td>14.0</td><td>191.0</td><td>5.75</td><td>6.36</td><td>5.1</td><td>7.0</td><td>7.0</td><td>5.0</td></tr><tr><td>&quot;50%&quot;</td><td>2016.0</td><td>null</td><td>25.0</td><td>59.4</td><td>62.0</td><td>46.35</td><td>50.0</td><td>669.0</td><td>20.52</td><td>21.83</td><td>17.85</td><td>22.0</td><td>22.0</td><td>17.0</td></tr><tr><td>&quot;75%&quot;</td><td>2021.0</td><td>null</td><td>43.0</td><td>108.82</td><td>110.0</td><td>83.48</td><td>92.0</td><td>1207.0</td><td>36.45</td><td>39.3</td><td>33.84</td><td>38.0</td><td>39.0</td><td>33.0</td></tr><tr><td>&quot;max&quot;</td><td>2024.0</td><td>&quot;Zane McIntyre&quot;</td><td>77.0</td><td>217.67</td><td>209.0</td><td>168.82</td><td>222.0</td><td>2375.0</td><td>75.81</td><td>83.57</td><td>78.93</td><td>76.0</td><td>91.0</td><td>75.0</td></tr></tbody></table></div>"
      ],
      "text/plain": [
       "shape: (9, 15)\n",
       "┌───────────┬───────────┬───────────┬───────────┬───┬───────────┬───────────┬───────────┬──────────┐\n",
       "│ statistic ┆ season    ┆ name      ┆ games_pla ┆ … ┆ highDange ┆ lowDanger ┆ mediumDan ┆ highDang │\n",
       "│ ---       ┆ ---       ┆ ---       ┆ yed       ┆   ┆ rxGoals   ┆ Goals     ┆ gerGoals  ┆ erGoals  │\n",
       "│ str       ┆ f64       ┆ str       ┆ ---       ┆   ┆ ---       ┆ ---       ┆ ---       ┆ ---      │\n",
       "│           ┆           ┆           ┆ f64       ┆   ┆ f64       ┆ f64       ┆ f64       ┆ f64      │\n",
       "╞═══════════╪═══════════╪═══════════╪═══════════╪═══╪═══════════╪═══════════╪═══════════╪══════════╡\n",
       "│ count     ┆ 1598.0    ┆ 1598      ┆ 1598.0    ┆ … ┆ 1598.0    ┆ 1598.0    ┆ 1598.0    ┆ 1598.0   │\n",
       "│ null_coun ┆ 0.0       ┆ 0         ┆ 0.0       ┆ … ┆ 0.0       ┆ 0.0       ┆ 0.0       ┆ 0.0      │\n",
       "│ t         ┆           ┆           ┆           ┆   ┆           ┆           ┆           ┆          │\n",
       "│ mean      ┆ 2016.2953 ┆ null      ┆ 27.143304 ┆ … ┆ 21.074975 ┆ 23.997497 ┆ 24.660826 ┆ 20.31852 │\n",
       "│           ┆ 69        ┆           ┆           ┆   ┆           ┆           ┆           ┆ 3        │\n",
       "│ std       ┆ 4.894797  ┆ null      ┆ 20.523826 ┆ … ┆ 17.369629 ┆ 18.498625 ┆ 18.88664  ┆ 16.59621 │\n",
       "│           ┆           ┆           ┆           ┆   ┆           ┆           ┆           ┆ 9        │\n",
       "│ min       ┆ 2008.0    ┆ Aaron     ┆ 1.0       ┆ … ┆ 0.0       ┆ 0.0       ┆ 0.0       ┆ 0.0      │\n",
       "│           ┆           ┆ Dell      ┆           ┆   ┆           ┆           ┆           ┆          │\n",
       "│ 25%       ┆ 2012.0    ┆ null      ┆ 7.0       ┆ … ┆ 5.1       ┆ 7.0       ┆ 7.0       ┆ 5.0      │\n",
       "│ 50%       ┆ 2016.0    ┆ null      ┆ 25.0      ┆ … ┆ 17.85     ┆ 22.0      ┆ 22.0      ┆ 17.0     │\n",
       "│ 75%       ┆ 2021.0    ┆ null      ┆ 43.0      ┆ … ┆ 33.84     ┆ 38.0      ┆ 39.0      ┆ 33.0     │\n",
       "│ max       ┆ 2024.0    ┆ Zane      ┆ 77.0      ┆ … ┆ 78.93     ┆ 76.0      ┆ 91.0      ┆ 75.0     │\n",
       "│           ┆           ┆ McIntyre  ┆           ┆   ┆           ┆           ┆           ┆          │\n",
       "└───────────┴───────────┴───────────┴───────────┴───┴───────────┴───────────┴───────────┴──────────┘"
      ]
     },
     "execution_count": 64,
     "metadata": {},
     "output_type": "execute_result"
    }
   ],
   "source": [
    "df.describe()"
   ]
  }
 ],
 "metadata": {
  "kernelspec": {
   "display_name": "nhlMvp",
   "language": "python",
   "name": "python3"
  },
  "language_info": {
   "codemirror_mode": {
    "name": "ipython",
    "version": 3
   },
   "file_extension": ".py",
   "mimetype": "text/x-python",
   "name": "python",
   "nbconvert_exporter": "python",
   "pygments_lexer": "ipython3",
   "version": "3.9.21"
  }
 },
 "nbformat": 4,
 "nbformat_minor": 5
}
